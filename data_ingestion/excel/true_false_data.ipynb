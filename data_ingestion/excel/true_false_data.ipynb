{
 "cells": [
  {
   "cell_type": "code",
   "execution_count": 1,
   "metadata": {},
   "outputs": [],
   "source": [
    "import pandas as pd"
   ]
  },
  {
   "cell_type": "code",
   "execution_count": 2,
   "metadata": {},
   "outputs": [
    {
     "name": "stdout",
     "output_type": "stream",
     "text": [
      "HasDebt                    10\n",
      "HasFinancialDependents      9\n",
      "HasHomeMortgage           499\n",
      "HasStudentDebt            502\n",
      "ID.x                        0\n",
      "dtype: int64\n"
     ]
    }
   ],
   "source": [
    "# Load the data\n",
    "\n",
    "cols_str = \"AP, AH, AI, AK, AM\"\n",
    "\n",
    "survey_data = pd.read_excel(\n",
    "    \"../dataset/fcc_survey_subset.xlsx\", \n",
    "    skiprows=2,\n",
    "    usecols=cols_str, \n",
    "    # dtype={\"HasDebt\": bool}\n",
    "    )\n",
    "\n",
    "# Count NA values in each column\n",
    "print(survey_data.isna().sum())"
   ]
  }
 ],
 "metadata": {
  "kernelspec": {
   "display_name": "3.11.8",
   "language": "python",
   "name": "python3"
  },
  "language_info": {
   "codemirror_mode": {
    "name": "ipython",
    "version": 3
   },
   "file_extension": ".py",
   "mimetype": "text/x-python",
   "name": "python",
   "nbconvert_exporter": "python",
   "pygments_lexer": "ipython3",
   "version": "3.11.11"
  }
 },
 "nbformat": 4,
 "nbformat_minor": 2
}
