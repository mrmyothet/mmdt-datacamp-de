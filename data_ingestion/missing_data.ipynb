{
 "cells": [
  {
   "cell_type": "code",
   "execution_count": 1,
   "metadata": {},
   "outputs": [],
   "source": [
    "import pandas as pd"
   ]
  },
  {
   "cell_type": "code",
   "execution_count": 2,
   "metadata": {},
   "outputs": [
    {
     "name": "stdout",
     "output_type": "stream",
     "text": [
      "STATEFIPS     int64\n",
      "STATE        object\n",
      "zipcode       int64\n",
      "agi_stub      int64\n",
      "N1            int64\n",
      "              ...  \n",
      "A85300        int64\n",
      "N11901        int64\n",
      "A11901        int64\n",
      "N11902        int64\n",
      "A11902        int64\n",
      "Length: 147, dtype: object\n"
     ]
    }
   ],
   "source": [
    "# Load csv with no additional arguments\n",
    "data = pd.read_csv(\"../dataset/vt_tax_data_2016.csv\")\n",
    "\n",
    "# Print the data types\n",
    "print(data.dtypes)"
   ]
  },
  {
   "cell_type": "code",
   "execution_count": 4,
   "metadata": {},
   "outputs": [
    {
     "name": "stdout",
     "output_type": "stream",
     "text": [
      "STATEFIPS       int64\n",
      "STATE          object\n",
      "zipcode        object\n",
      "agi_stub     category\n",
      "N1              int64\n",
      "dtype: object\n"
     ]
    }
   ],
   "source": [
    "# Create dict specifying data types for agi_stub and zipcode\n",
    "data_types = {\"agi_stub\": \"category\", \"zipcode\": \"str\"}\n",
    "\n",
    "# Load csv using dtype to set correct data types\n",
    "data = pd.read_csv(\"../dataset/vt_tax_data_2016.csv\", dtype=data_types)\n",
    "\n",
    "# Print data types of resulting frame\n",
    "print(data.dtypes.head())"
   ]
  },
  {
   "cell_type": "code",
   "execution_count": 10,
   "metadata": {},
   "outputs": [
    {
     "name": "stdout",
     "output_type": "stream",
     "text": [
      "<class 'set'>\n",
      "      STATEFIPS STATE  zipcode  agi_stub      N1  mars1  MARS2  MARS4   PREP  \\\n",
      "0            50    VT      NaN         1  111580  85090  14170  10740  45360   \n",
      "1            50    VT      NaN         2   82760  51960  18820  11310  35600   \n",
      "2            50    VT      NaN         3   46270  19540  22650   3620  24140   \n",
      "3            50    VT      NaN         4   30070   5830  22190    960  16060   \n",
      "4            50    VT      NaN         5   39530   3900  33800    590  22500   \n",
      "...         ...   ...      ...       ...     ...    ...    ...    ...    ...   \n",
      "1471         50    VT  99999.0         2    2010   1300    410    240    970   \n",
      "1472         50    VT  99999.0         3    1070    500    460     90    590   \n",
      "1473         50    VT  99999.0         4     650    170    450     30    370   \n",
      "1474         50    VT  99999.0         5     750    120    620     30    470   \n",
      "1475         50    VT  99999.0         6     180     40    170      0    180   \n",
      "\n",
      "          N2  ...  N10300  A10300  N85530  A85530  N85300  A85300  N11901  \\\n",
      "0     130630  ...   53660   50699       0       0       0       0   10820   \n",
      "1     132950  ...   74340  221146       0       0       0       0   12820   \n",
      "2      91870  ...   44860  266097       0       0       0       0   10810   \n",
      "3      71610  ...   29580  264678       0       0       0       0    7320   \n",
      "4     103710  ...   39170  731963      40      24       0       0   12500   \n",
      "...      ...  ...     ...     ...     ...     ...     ...     ...     ...   \n",
      "1471    3090  ...    1820    5539       0       0       0       0     250   \n",
      "1472    1930  ...    1050    6710       0       0       0       0     230   \n",
      "1473    1410  ...     630    6003       0       0       0       0     150   \n",
      "1474    1830  ...     740   13251       0       0       0       0     230   \n",
      "1475     490  ...     170   11813      50      20      80     128      60   \n",
      "\n",
      "      A11901  N11902  A11902  \n",
      "0       9734   88260  138337  \n",
      "1      20029   68760  151729  \n",
      "2      24499   34600   90583  \n",
      "3      21573   21300   67045  \n",
      "4      67761   23320  103034  \n",
      "...      ...     ...     ...  \n",
      "1471     291    1630    3506  \n",
      "1472     489     750    1829  \n",
      "1473     305     390    1055  \n",
      "1474     824     390    1580  \n",
      "1475     575      40     190  \n",
      "\n",
      "[1476 rows x 147 columns]\n"
     ]
    }
   ],
   "source": [
    "# Create dict specifying that 0s in zipcode are NA values\n",
    "null_values = {\"0\", \"N/A\", \"NA\"}\n",
    "print(type(null_values))\n",
    "\n",
    "# Load csv using na_values keyword argument\n",
    "data = pd.read_csv(\"../dataset/vt_tax_data_2016.csv\", na_values={'zipcode': null_values})\n",
    "\n",
    "# View rows with NA ZIP codes\n",
    "# print(data[data.zipcode.isna()])\n",
    "print(data)"
   ]
  },
  {
   "cell_type": "code",
   "execution_count": 11,
   "metadata": {},
   "outputs": [
    {
     "name": "stdout",
     "output_type": "stream",
     "text": [
      "   STATEFIPS STATE  zipcode  agi_stub      N1  mars1  MARS2  MARS4   PREP  \\\n",
      "0         50    VT      NaN         1  111580  85090  14170  10740  45360   \n",
      "1         50    VT      NaN         2   82760  51960  18820  11310  35600   \n",
      "2         50    VT      NaN         3   46270  19540  22650   3620  24140   \n",
      "3         50    VT      NaN         4   30070   5830  22190    960  16060   \n",
      "4         50    VT      NaN         5   39530   3900  33800    590  22500   \n",
      "5         50    VT      NaN         6    9620    600   8150      0   7040   \n",
      "\n",
      "       N2  ...  N10300  A10300  N85530  A85530  N85300  A85300  N11901  \\\n",
      "0  130630  ...   53660   50699       0       0       0       0   10820   \n",
      "1  132950  ...   74340  221146       0       0       0       0   12820   \n",
      "2   91870  ...   44860  266097       0       0       0       0   10810   \n",
      "3   71610  ...   29580  264678       0       0       0       0    7320   \n",
      "4  103710  ...   39170  731963      40      24       0       0   12500   \n",
      "5   26430  ...    9600  894432    3350    4939    4990   20428    3900   \n",
      "\n",
      "   A11901  N11902  A11902  \n",
      "0    9734   88260  138337  \n",
      "1   20029   68760  151729  \n",
      "2   24499   34600   90583  \n",
      "3   21573   21300   67045  \n",
      "4   67761   23320  103034  \n",
      "5   93123    2870   39425  \n",
      "\n",
      "[6 rows x 147 columns]\n"
     ]
    }
   ],
   "source": [
    "# Create dict specifying that 0s in zipcode are NA values\n",
    "null_values = {\"zipcode\": 0}\n",
    "\n",
    "# Load csv using na_values keyword argument\n",
    "data = pd.read_csv(\"../dataset/vt_tax_data_2016.csv\", \n",
    "                   na_values=null_values)\n",
    "\n",
    "# View rows with NA ZIP codes\n",
    "print(data[data.zipcode.isna()])"
   ]
  },
  {
   "cell_type": "code",
   "execution_count": 15,
   "metadata": {},
   "outputs": [
    {
     "name": "stdout",
     "output_type": "stream",
     "text": [
      "   STATEFIPS STATE  zipcode  agi_stub      N1  mars1  MARS2  MARS4   PREP  \\\n",
      "0         50    VT        0         1  111580  85090  14170  10740  45360   \n",
      "1         50    VT        0         2   82760  51960  18820  11310  35600   \n",
      "2         50    VT        0         3   46270  19540  22650   3620  24140   \n",
      "3         50    VT        0         4   30070   5830  22190    960  16060   \n",
      "4         50    VT        0         5   39530   3900  33800    590  22500   \n",
      "\n",
      "       N2  ...  N10300  A10300  N85530  A85530  N85300  A85300  N11901  \\\n",
      "0  130630  ...   53660   50699       0       0       0       0   10820   \n",
      "1  132950  ...   74340  221146       0       0       0       0   12820   \n",
      "2   91870  ...   44860  266097       0       0       0       0   10810   \n",
      "3   71610  ...   29580  264678       0       0       0       0    7320   \n",
      "4  103710  ...   39170  731963      40      24       0       0   12500   \n",
      "\n",
      "   A11901  N11902  A11902  \n",
      "0    9734   88260  138337  \n",
      "1   20029   68760  151729  \n",
      "2   24499   34600   90583  \n",
      "3   21573   21300   67045  \n",
      "4   67761   23320  103034  \n",
      "\n",
      "[5 rows x 147 columns]\n"
     ]
    }
   ],
   "source": [
    "try:\n",
    "  # Set warn_bad_lines to issue warnings about bad records\n",
    "  data = pd.read_csv(\"../dataset/vt_tax_data_2016.csv\", \n",
    "                     on_bad_lines='warn')\n",
    "  \n",
    "  # View first 5 records\n",
    "  print(data.head())\n",
    "  \n",
    "except pd.errors.ParserError:\n",
    "    print(\"Your data contained rows that could not be parsed.\")"
   ]
  }
 ],
 "metadata": {
  "kernelspec": {
   "display_name": "3.11.8",
   "language": "python",
   "name": "python3"
  },
  "language_info": {
   "codemirror_mode": {
    "name": "ipython",
    "version": 3
   },
   "file_extension": ".py",
   "mimetype": "text/x-python",
   "name": "python",
   "nbconvert_exporter": "python",
   "pygments_lexer": "ipython3",
   "version": "3.11.11"
  }
 },
 "nbformat": 4,
 "nbformat_minor": 2
}
